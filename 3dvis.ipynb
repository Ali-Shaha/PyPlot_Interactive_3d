{
 "cells": [
  {
   "cell_type": "code",
   "execution_count": 3,
   "metadata": {},
   "outputs": [
    {
     "data": {
      "application/vnd.jupyter.widget-view+json": {
       "model_id": "8ce2afbe758f41d39662615c74a1e29d",
       "version_major": 2,
       "version_minor": 0
      },
      "text/plain": [
       "Output()"
      ]
     },
     "metadata": {},
     "output_type": "display_data"
    }
   ],
   "source": [
    "import k3d\n",
    "import os\n",
    "import vtk\n",
    "import numpy as np\n",
    "from k3d.helpers import download\n",
    "from vtk.util import numpy_support\n",
    "import pyvista as pv\n",
    "import math\n",
    "\n",
    "\n",
    "def vtm_to_Poly (name):\n",
    "    filename = name\n",
    "    reader = vtk.vtkXMLMultiBlockDataReader()\n",
    "    reader.SetFileName(filename)\n",
    "    reader.Update()\n",
    "    \n",
    "    geometryFilter = vtk.vtkGeometryFilter()\n",
    "    geometryFilter.SetInputData(reader.GetOutput().GetBlock(0).GetBlock(0))\n",
    "    geometryFilter.Update()\n",
    "    return geometryFilter.GetOutput()\n",
    "    \n",
    "# read the data\n",
    "grid = pv.read('mesh/surf0.stl')\n",
    "grid2 = pv.read('mesh/surf10.stl')\n",
    "\n",
    "\n",
    "c = vtm_to_Poly ('mesh/block0.vtm')\n",
    "c2 = vtm_to_Poly ('mesh/block1.vtm')\n",
    "\n",
    "\n",
    "\n",
    "colors = [0xFF0000,0xaaaaaa,0xFF0000]\n",
    "grids = [grid,grid,grid2]\n",
    "conturs = [c,c,c2]\n",
    "cl_at = ('T', 0.0, 2000)\n",
    "cl_at1 = ('T', 0.0, 2000)\n",
    "cl_at2 = ('T', 0.0, 2000)\n",
    "\n",
    "ra = [cl_at1[1:3],cl_at[1:3],cl_at2[1:3]]\n",
    "\n",
    "\n",
    "plot = k3d.plot()\n",
    "\n",
    "plt_vtk = k3d.vtk_poly_data(c ,color_attribute = cl_at, color_map = k3d.basic_color_maps.Jet)\n",
    "plt_mesh = k3d.vtk_poly_data(grid2, opacity=0.05, wireframe=True,color = 0xaaaaaa)\n",
    "\n",
    "plot += plt_mesh\n",
    "plot += plt_vtk\n",
    "\n",
    "\n",
    "#c_color_range = {str(t):ra[t] for t in range(len(conturs))}\n",
    "attribute = {str(t):numpy_support.vtk_to_numpy(conturs[t].GetPointData().GetArray(cl_at[0])) for t in range(len(conturs))}\n",
    "vertices = {str(t):numpy_support.vtk_to_numpy(grids[t].GetPoints().GetData()).astype(np.float32) for t in range(len(grids))}\n",
    "indices = {str(t):numpy_support.vtk_to_numpy(grids[t].GetPolys().GetData()).reshape(-1, 4)[:, 1:4].astype(np.float32) for t in range(len(grids))}\n",
    "\n",
    "#print (attribute)\n",
    "\n",
    "\n",
    "plt_mesh.indices,plt_mesh.vertices = indices,vertices\n",
    "\n",
    "plt_vtk.attribute = attribute \n",
    "plot.fps = 1  # This is important if not set to one then it will interpolate the mesh\n",
    "\n",
    "plot.display()\n"
   ]
  },
  {
   "cell_type": "code",
   "execution_count": 6,
   "metadata": {},
   "outputs": [],
   "source": [
    "f = open('./volume.html', 'w', encoding='UTF-8')\n",
    "f.write(plot.get_snapshot(9, 'K3DInstance.startAutoPlay();'))\n",
    "f.close()"
   ]
  },
  {
   "cell_type": "code",
   "execution_count": null,
   "metadata": {},
   "outputs": [],
   "source": []
  }
 ],
 "metadata": {
  "kernelspec": {
   "display_name": "Python 3",
   "language": "python",
   "name": "python3"
  },
  "language_info": {
   "codemirror_mode": {
    "name": "ipython",
    "version": 3
   },
   "file_extension": ".py",
   "mimetype": "text/x-python",
   "name": "python",
   "nbconvert_exporter": "python",
   "pygments_lexer": "ipython3",
   "version": "3.6.9"
  }
 },
 "nbformat": 4,
 "nbformat_minor": 4
}
