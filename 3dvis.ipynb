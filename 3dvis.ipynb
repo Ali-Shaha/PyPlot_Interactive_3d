{
 "cells": [
  {
   "cell_type": "markdown",
   "metadata": {},
   "source": [
    "<h4><b>Interactive Animation plot<b><h4>\n",
    "<hr>"
   ]
  },
  {
   "cell_type": "code",
   "execution_count": 2,
   "metadata": {},
   "outputs": [],
   "source": [
    "import k3d\n",
    "import vtk\n",
    "import glob\n",
    "import numpy as np\n",
    "import pyvista as pv\n",
    "from vtk.util import numpy_support"
   ]
  },
  {
   "cell_type": "markdown",
   "metadata": {},
   "source": [
    "<h6><b>Function for loading vtm files<b><h6>\n",
    "<hr>"
   ]
  },
  {
   "cell_type": "code",
   "execution_count": 4,
   "metadata": {},
   "outputs": [],
   "source": [
    "def vtm_to_Poly (name):\n",
    "    \"\"\"Returns the vtkPolyData object.\n",
    "\n",
    "    Args:\n",
    "        name: address of the vtm file\n",
    "\n",
    "    Returns:\n",
    "        vtkPolyData\n",
    "    \"\"\"    \n",
    "    filename = name\n",
    "    reader = vtk.vtkXMLMultiBlockDataReader()\n",
    "    reader.SetFileName(filename)\n",
    "    reader.Update()\n",
    "    \n",
    "    geometryFilter = vtk.vtkGeometryFilter()\n",
    "    geometryFilter.SetInputData(reader.GetOutput().GetBlock(0).GetBlock(0))\n",
    "    geometryFilter.Update()\n",
    "    return geometryFilter.GetOutput()"
   ]
  },
  {
   "cell_type": "markdown",
   "metadata": {},
   "source": [
    "<h6><b>Function for mesh triangulation<b><h6>\n",
    "<hr>"
   ]
  },
  {
   "cell_type": "code",
   "execution_count": null,
   "metadata": {},
   "outputs": [],
   "source": [
    "def triangulate(poly_data):\n",
    "    \"\"\"Create a triangulate version of the polyData.\n",
    "       This is necessary for consistency of the grids at different time-steps\n",
    "       since \"k3d.vtk_poly_data\" does this step by default.\n",
    "       check: https://github.com/K3D-tools/K3D-jupyter/blob/main/k3d/factory.py\n",
    "       lines: 1898-1902 \n",
    "    \n",
    "    Args:\n",
    "        vtkPolyData \n",
    "\n",
    "    Returns:\n",
    "        vtkPolyData (triangle)\n",
    "    \"\"\"\n",
    "    if (max(poly_data.GetPolys().GetMaxCellSize(), poly_data.GetStrips().GetMaxCellSize()) > 3):\n",
    "        cut_triangles = vtk.vtkTriangleFilter()\n",
    "        cut_triangles.SetInputData(poly_data)\n",
    "        cut_triangles.Update()\n",
    "        poly_data = cut_triangles.GetOutput()\n",
    "    return poly_data"
   ]
  },
  {
   "cell_type": "markdown",
   "metadata": {},
   "source": [
    "<h6><b>Loading stl and vtm files<b><h6>\n",
    "<hr>"
   ]
  },
  {
   "cell_type": "code",
   "execution_count": 5,
   "metadata": {},
   "outputs": [],
   "source": [
    "# read the data\n",
    "\n",
    "stldir = \"examples/sandiaFlameD/mesh/stls\"\n",
    "STL = glob.glob (f'{stldir}/*.stl')\n",
    "\n",
    "vtmdir = \"examples/sandiaFlameD/mesh/vtms\"\n",
    "VTM = glob.glob (f'{vtmdir}/*.vtm')\n",
    "\n",
    "grids = [pv.read(stl) for stl in STL]\n",
    "contours = [triangulate(vtm_to_Poly (vtm)) for vtm in VTM]"
   ]
  },
  {
   "cell_type": "markdown",
   "metadata": {},
   "source": [
    "<h6><b>Creating interactive animation<b><h6>\n",
    "<hr>"
   ]
  },
  {
   "cell_type": "code",
   "execution_count": null,
   "metadata": {},
   "outputs": [],
   "source": [
    "plot = k3d.plot()\n",
    "\n",
    "#! select attribute (field) and range.\n",
    "cl_at = ('T', 0.0, 2000)\n",
    "\n",
    "\n",
    "plt_vtk = k3d.vtk_poly_data(contours[0] ,color_attribute = cl_at, color_map = k3d.basic_color_maps.Jet)\n",
    "plt_mesh = k3d.vtk_poly_data(grids[0], opacity=0.05, wireframe=True,color = 0xaaaaaa)\n",
    "\n",
    "plot += plt_mesh\n",
    "plot += plt_vtk\n",
    "\n",
    "\n",
    "attribute = {str(t):numpy_support.vtk_to_numpy(contours[t].GetPointData().GetArray(cl_at[0])) for t in range(len(contours))}\n",
    "vertices = {str(t):numpy_support.vtk_to_numpy(grids[t].GetPoints().GetData()).astype(np.float32) for t in range(len(grids))}\n",
    "indices = {str(t):numpy_support.vtk_to_numpy(grids[t].GetPolys().GetData()).reshape(-1, 4)[:, 1:4].astype(np.float32) for t in range(len(grids))}\n",
    "\n",
    "# print (attribute) # check to see the embeded arrays used int contours color\n",
    "\n",
    "\n",
    "plt_mesh.indices,plt_mesh.vertices = indices,vertices\n",
    "\n",
    "plt_vtk.attribute = attribute \n",
    "plot.fps = 1  # This is important if not set to one then it will interpolate the mesh\n",
    "# plot.time = -1\n",
    "# plot.display()\n",
    "plot"
   ]
  },
  {
   "cell_type": "markdown",
   "metadata": {},
   "source": [
    "<h6><b>For creating .html files<b><h6>\n",
    "<hr>"
   ]
  },
  {
   "cell_type": "code",
   "execution_count": 3,
   "metadata": {},
   "outputs": [],
   "source": [
    "#! this is where the magic happens\n",
    "\n",
    "f = open('./volume.html', 'w', encoding='UTF-8')\n",
    "f.write(plot.get_snapshot(9, 'K3DInstance.startAutoPlay();'))\n",
    "f.close()"
   ]
  }
 ],
 "metadata": {
  "kernelspec": {
   "display_name": "Python 3.8.10 64-bit",
   "language": "python",
   "name": "python3"
  },
  "language_info": {
   "author": [
    {
     "name": "Ali Shahanaghi"
    }
   ],
   "codemirror_mode": {
    "name": "ipython",
    "version": 3
   },
   "file_extension": ".py",
   "mimetype": "text/x-python",
   "name": "python",
   "nbconvert_exporter": "python",
   "pygments_lexer": "ipython3",
   "version": "3.8.10"
  },
  "vscode": {
   "interpreter": {
    "hash": "916dbcbb3f70747c44a77c7bcd40155683ae19c65e1c03b4aa3499c5328201f1"
   }
  }
 },
 "nbformat": 4,
 "nbformat_minor": 4
}
