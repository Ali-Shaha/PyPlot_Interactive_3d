{
 "cells": [
  {
   "cell_type": "code",
   "execution_count": 2,
   "metadata": {},
   "outputs": [
    {
     "data": {
      "application/vnd.jupyter.widget-view+json": {
       "model_id": "4e301cafabb34d04a77ec78862a1f1ff",
       "version_major": 2,
       "version_minor": 0
      },
      "text/plain": [
       "Output()"
      ]
     },
     "metadata": {},
     "output_type": "display_data"
    }
   ],
   "source": [
    "import k3d\n",
    "import os\n",
    "import vtk\n",
    "import numpy as np\n",
    "from k3d.helpers import download\n",
    "from vtk.util import numpy_support\n",
    "import pyvista as pv\n",
    "import math\n",
    "\n",
    "\n",
    "def vtk_ExtractSurface(vtk_outputport,vtk_o,vtk_n):\n",
    "\n",
    "    plane = vtk.vtkPlane()\n",
    "    plane.SetOrigin(*vtk_o)\n",
    "    plane.SetNormal(*vtk_n)\n",
    "\n",
    "    myExtractGeometry = vtk.vtkExtractGeometry()\n",
    "    myExtractGeometry.SetInputData(vtk_outputport)\n",
    "    myExtractGeometry.SetImplicitFunction(plane)\n",
    "    myExtractGeometry.ExtractInsideOn()\n",
    "    myExtractGeometry.SetExtractBoundaryCells(0);\n",
    "    myExtractGeometry.Update()\n",
    "\n",
    "    myExtractSurface = vtk.vtkDataSetSurfaceFilter()\n",
    "    myExtractSurface.SetInputConnection(myExtractGeometry.GetOutputPort())\n",
    "    myExtractSurface.Update()\n",
    "\n",
    "    return myExtractSurface.GetOutput()\n",
    "\n",
    "\n",
    "def read_unstr (name):\n",
    "    filename = name\n",
    "    reader = vtk.vtkXMLMultiBlockDataReader()\n",
    "    reader.SetFileName(filename)\n",
    "    reader.Update()\n",
    "    #out = reader.GetOutput()\n",
    "    #outunst = pv.UnstructuredGrid(out.GetBlock(0).GetBlock(0)) \n",
    "    #bbox = np.array(outunst.GetBounds()).reshape(3,2)\n",
    "    #center = np.mean(bbox,axis=1)\n",
    "    #plane = vtk.vtkPlane()\n",
    "    #plane.SetOrigin(*center)\n",
    "    #plane.SetNormal(1,0.3,0)\n",
    "    #vtk_n = np.array([ 0. ,  .3,  0. ])\n",
    "    #vtk_o = np.array([ 0.04984861,  20.03934663,  0.04888905])    \n",
    "   #return vtk_ExtractSurface(outunst, vtk_o,vtk_n)\n",
    "    #return outunst.extract_geometry()\n",
    "\n",
    "\n",
    "\n",
    "# read the data\n",
    "grid = pv.read('surf0.stl')\n",
    "grid2 = pv.read('surf10.stl')\n",
    "\n",
    "\n",
    "c = read_unstr ('block0.vtm')\n",
    "c2 = read_unstr ('block1.vtm')\n",
    "\n",
    "\n",
    "\n",
    "colors = [0xFF0000,0xaaaaaa,0xFF0000]\n",
    "grids = [grid,grid,grid2]\n",
    "conturs = [c,c,c2]\n",
    "cl_at = ('T', 0.0, 2000)\n",
    "cl_at1 = ('T', 0.0, 2000)\n",
    "cl_at2 = ('T', 0.0, 2000)\n",
    "\n",
    "ra = [cl_at1[1:3],cl_at[1:3],cl_at2[1:3]]\n",
    "\n",
    "\n",
    "plot = k3d.plot()\n",
    "\n",
    "plt_vtk = k3d.vtk_poly_data(c ,color_attribute = cl_at, color_map = k3d.basic_color_maps.Jet)\n",
    "plt_mesh = k3d.vtk_poly_data(grid2, opacity=0.05, wireframe=True,color = 0xaaaaaa)\n",
    "\n",
    "plot += plt_mesh\n",
    "plot += plt_vtk\n",
    "\n",
    "\n",
    "#c_color_range = {str(t):ra[t] for t in range(len(conturs))}\n",
    "attribute = {str(t):numpy_support.vtk_to_numpy(conturs[t].GetPointData().GetArray(cl_at[0])) for t in range(len(conturs))}\n",
    "vertices = {str(t):numpy_support.vtk_to_numpy(grids[t].GetPoints().GetData()).astype(np.float32) for t in range(len(grids))}\n",
    "indices = {str(t):numpy_support.vtk_to_numpy(grids[t].GetPolys().GetData()).reshape(-1, 4)[:, 1:4].astype(np.float32) for t in range(len(grids))}\n",
    "\n",
    "#print (attribute)\n",
    "\n",
    "\n",
    "plt_mesh.indices,plt_mesh.vertices = indices,vertices\n",
    "\n",
    "plt_vtk.attribute = attribute \n",
    "plot.fps = 1\n",
    "\n",
    "plot.display()\n"
   ]
  },
  {
   "cell_type": "code",
   "execution_count": 6,
   "metadata": {},
   "outputs": [],
   "source": [
    "f = open('./volume.html', 'w', encoding='UTF-8')\n",
    "f.write(plot.get_snapshot(9, 'K3DInstance.startAutoPlay();'))\n",
    "f.close()"
   ]
  },
  {
   "cell_type": "code",
   "execution_count": null,
   "metadata": {},
   "outputs": [],
   "source": []
  }
 ],
 "metadata": {
  "kernelspec": {
   "display_name": "Python 3",
   "language": "python",
   "name": "python3"
  },
  "language_info": {
   "codemirror_mode": {
    "name": "ipython",
    "version": 3
   },
   "file_extension": ".py",
   "mimetype": "text/x-python",
   "name": "python",
   "nbconvert_exporter": "python",
   "pygments_lexer": "ipython3",
   "version": "3.6.9"
  }
 },
 "nbformat": 4,
 "nbformat_minor": 4
}
