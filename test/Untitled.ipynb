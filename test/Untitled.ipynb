{
 "cells": [
  {
   "cell_type": "code",
   "execution_count": 85,
   "metadata": {},
   "outputs": [
    {
     "data": {
      "application/vnd.jupyter.widget-view+json": {
       "model_id": "4aee66d12b2849308b1bfc6e1c772394",
       "version_major": 2,
       "version_minor": 0
      },
      "text/plain": [
       "Output()"
      ]
     },
     "metadata": {},
     "output_type": "display_data"
    }
   ],
   "source": [
    "import k3d\n",
    "import os\n",
    "import vtk\n",
    "\n",
    "from k3d.helpers import download\n",
    "\n",
    "#filename = 'cow.vtp'\n",
    "#filename = 'surf.vtm'\n",
    "filename = 'contour0.stl'\n",
    "\n",
    "\n",
    "model_matrix = (\n",
    "     1.0,  0.0, 0.0, 0.0,\n",
    "     0.0,  0.0, 1.0, 0.0,\n",
    "     0.0,  1.0, 0.0, 0.0,\n",
    "     0.0,  0.0, 0.0, 1.0\n",
    ")\n",
    "\n",
    "#reader = vtk.vtkXMLMultiBlockDataReader()\n",
    "reader = vtk.vtkSTLReader()\n",
    "#reader = vtk.vtkXMLPolyDataReader()\n",
    "reader.SetFileName(filename)\n",
    "reader.Update()\n",
    "geometry_ws = reader.GetOutput()\n",
    "#reader.SetFileName(filename)\n",
    "#reader.Update()\n",
    "#geometry_wss = reader.GetOutput()\n",
    "\n",
    "plot = k3d.plot()\n",
    "plot += k3d.vtk_poly_data(geometry_ws, opacity=0.1, wireframe=True, color=0xaaaaaa)\n",
    "#cow3d = k3d.vtk_poly_data(reader.GetOutput(), color=0xff0000,\n",
    "                          #model_matrix=model_matrix)\n",
    "#plot += cow3d\n",
    "plot.display()\n"
   ]
  },
  {
   "cell_type": "code",
   "execution_count": 18,
   "metadata": {},
   "outputs": [
    {
     "data": {
      "application/vnd.jupyter.widget-view+json": {
       "model_id": "062c516308f543698b3c279e45192140",
       "version_major": 2,
       "version_minor": 0
      },
      "text/plain": [
       "Output()"
      ]
     },
     "metadata": {},
     "output_type": "display_data"
    }
   ],
   "source": [
    "import numpy as np\n",
    "import k3d\n",
    "plot = k3d.plot(camera_auto_fit=False)\n",
    "N = 10000\n",
    "traj = np.cumsum(np.random.randn(N,3).astype(np.float32),axis=0)\n",
    "plt_line = k3d.line(traj, shader='mesh', width=0.5)\n",
    "plt_line2 = k3d.line([traj[0],traj[-1]],shader='mesh', width=2.5, color=0xff0000)\n",
    "plot += plt_line\n",
    "plot += plt_line2\n",
    "plot.display()"
   ]
  },
  {
   "cell_type": "code",
   "execution_count": 20,
   "metadata": {},
   "outputs": [],
   "source": [
    "\n",
    "import time\n",
    "for i in range(40):\n",
    "    traj = np.cumsum(np.random.randn(N,3).astype(np.float32),axis=0)\n",
    "    plt_line.vertices = traj\n",
    "    plt_line2.vertices = [traj[0],traj[-1]]\n",
    "    time.sleep(1)"
   ]
  },
  {
   "cell_type": "code",
   "execution_count": 2,
   "metadata": {},
   "outputs": [
    {
     "data": {
      "application/vnd.jupyter.widget-view+json": {
       "model_id": "5a1a832b9281443bb60b148760d3a210",
       "version_major": 2,
       "version_minor": 0
      },
      "text/plain": [
       "Plot(antialias=3, axes=['x', 'y', 'z'], axes_helper=1.0, background_color=16777215, camera=[2, -3, 0.2, 0.0, 0…"
      ]
     },
     "metadata": {},
     "output_type": "display_data"
    }
   ],
   "source": [
    "from matplotlib.tri import Triangulation\n",
    "from scipy.interpolate import interp2d\n",
    "\n",
    "import numpy as np\n",
    "import k3d\n",
    "\n",
    "# this code is a part of matplotlib trisurf3d_demo\n",
    "n_radii = 8\n",
    "n_angles = 36\n",
    "\n",
    "radii = np.linspace(0.125, 1.0, n_radii, dtype=np.float32)\n",
    "angles = np.linspace(0, 2*np.pi, n_angles, endpoint=False, dtype=np.float32)[..., np.newaxis]\n",
    "\n",
    "data = np.loadtxt('100.csv', delimiter = ',', skiprows = 1)\n",
    "x1 = data [:,1]\n",
    "y1 = data [:,2]\n",
    "z1 = data [:,3]\n",
    "T = data [:,0]\n",
    "\n",
    "z2 = sorted(set(z1))\n",
    "\n",
    "x = np.append(np.float32(0), (radii*np.cos(angles)).flatten())\n",
    "y = np.append(np.float32(0), (radii*np.sin(angles)).flatten())\n",
    "\n",
    "z = np.sin(-x*y)\n",
    "indices = range(int(1.1*len(x1)))\n",
    "#indices = Triangulation(x1,y1).triangles.astype(np.uint32)\n",
    "\n",
    "plot = k3d.plot()\n",
    "plot\n"
   ]
  },
  {
   "cell_type": "code",
   "execution_count": 3,
   "metadata": {},
   "outputs": [
    {
     "name": "stderr",
     "output_type": "stream",
     "text": [
      "/usr/local/lib/python3.6/dist-packages/traittypes/traittypes.py:101: UserWarning: Given trait value dtype \"float64\" does not match required type \"float32\". A coerced copy has been created.\n",
      "  np.dtype(self.dtype).name))\n"
     ]
    }
   ],
   "source": [
    "plt_mesh = k3d.mesh(np.vstack([x1,y1,z1]).T, indices,\n",
    "                   color_map = k3d.colormaps.basic_color_maps.Jet,\n",
    "                   attribute=T,\n",
    "                   color_range = [-1.1,2000.01])\n",
    "plot += plt_mesh\n"
   ]
  },
  {
   "cell_type": "code",
   "execution_count": 62,
   "metadata": {},
   "outputs": [
    {
     "data": {
      "application/vnd.jupyter.widget-view+json": {
       "model_id": "284621d599704d38bb596ddb31dbd5eb",
       "version_major": 2,
       "version_minor": 0
      },
      "text/plain": [
       "Output()"
      ]
     },
     "metadata": {},
     "output_type": "display_data"
    }
   ],
   "source": [
    "\n",
    "import k3d\n",
    "\n",
    "vertices = [\n",
    "    -10, 0, -1,\n",
    "    10, 0, -1,\n",
    "    10, 0, 1,\n",
    "    -10, 0, 1,\n",
    "]\n",
    "\n",
    "indices = [\n",
    "    0, 1, 3,\n",
    "    1, 2, 3\n",
    "]\n",
    "\n",
    "plot = k3d.plot()\n",
    "plot += k3d.mesh(vertices, indices)\n",
    "plot.display()"
   ]
  },
  {
   "cell_type": "code",
   "execution_count": 49,
   "metadata": {},
   "outputs": [
    {
     "data": {
      "application/vnd.jupyter.widget-view+json": {
       "model_id": "0966e7f032214936b6f6bdd780607d80",
       "version_major": 2,
       "version_minor": 0
      },
      "text/plain": [
       "aW50ZXJhY3RpdmUoY2hpbGRyZW49KERyb3Bkb3duKGRlc2NyaXB0aW9uPXUnQmFzaWMgQ29sb3JNYXA6Jywgb3B0aW9ucz0oJ0JpbmFyeScsICdCbGFja0JvZHlSYWRpYXRpb24nLCAnQmx1ZXPigKY=\n"
      ]
     },
     "metadata": {},
     "output_type": "display_data"
    },
    {
     "data": {
      "application/vnd.jupyter.widget-view+json": {
       "model_id": "0faf4844021b45acb0a85df94c7a1bd5",
       "version_major": 2,
       "version_minor": 0
      },
      "text/plain": [
       "aW50ZXJhY3RpdmUoY2hpbGRyZW49KERyb3Bkb3duKGRlc2NyaXB0aW9uPXUnUGFyYVZpZXcgQ29sb3JNYXA6Jywgb3B0aW9ucz0oJ0FzeW1tdHJpY2FsX0VhcnRoX1RvbmVzXzZfdHdvXzFiJyzigKY=\n"
      ]
     },
     "metadata": {},
     "output_type": "display_data"
    },
    {
     "data": {
      "application/vnd.jupyter.widget-view+json": {
       "model_id": "0b37b06c111f415e8d9dc1472b0ab27b",
       "version_major": 2,
       "version_minor": 0
      },
      "text/plain": [
       "aW50ZXJhY3RpdmUoY2hpbGRyZW49KERyb3Bkb3duKGRlc2NyaXB0aW9uPXUnTWF0cGxvbExpYiBDb2xvck1hcDonLCBvcHRpb25zPSgnQWNjZW50JywgJ0FjY2VudF9yJywgJ0FmbWhvdCcsICfigKY=\n"
      ]
     },
     "metadata": {},
     "output_type": "display_data"
    },
    {
     "data": {
      "application/vnd.jupyter.widget-view+json": {
       "model_id": "ead15548198641719b5bc01c6826cbc4",
       "version_major": 2,
       "version_minor": 0
      },
      "text/plain": [
       "Output()"
      ]
     },
     "metadata": {},
     "output_type": "display_data"
    }
   ],
   "source": [
    "from ipywidgets import widgets,interact\n",
    "\n",
    "vertex_attribute = [0, 1, 1, 0]\n",
    "\n",
    "plot = k3d.plot()\n",
    "mesh = k3d.mesh(vertices, indices, attribute=vertex_attribute, color_map=k3d.basic_color_maps.CoolWarm, color_range=[0.0, 1.0])\n",
    "plot += mesh\n",
    "\n",
    "basic_color_maps = [attr for attr in dir(k3d.basic_color_maps) if not attr.startswith('__')]\n",
    "paraview_color_maps = [attr for attr in dir(k3d.paraview_color_maps) if not attr.startswith('__')]\n",
    "matplotlib_color_maps = [attr for attr in dir(k3d.matplotlib_color_maps) if not attr.startswith('__')]\n",
    "\n",
    "@interact(x=widgets.Dropdown(options=basic_color_maps, value=basic_color_maps[0], description='Basic ColorMap:'))\n",
    "def g(x):\n",
    "    mesh.color_map = getattr(k3d.basic_color_maps, x)\n",
    "\n",
    "@interact(x=widgets.Dropdown(options=paraview_color_maps, value=paraview_color_maps[0], description='ParaView ColorMap:'))\n",
    "def g(x):\n",
    "    mesh.color_map = getattr(k3d.paraview_color_maps, x)\n",
    "    \n",
    "@interact(x=widgets.Dropdown(options=matplotlib_color_maps, value=matplotlib_color_maps[0], description='MatplolLib ColorMap:'))\n",
    "def g(x):\n",
    "    mesh.color_map = getattr(k3d.matplotlib_color_maps, x)\n",
    "\n",
    "plot.display()"
   ]
  },
  {
   "cell_type": "code",
   "execution_count": 63,
   "metadata": {},
   "outputs": [],
   "source": [
    "# show vertex numbers:\n",
    "import numpy as np\n",
    "v = np.array(vertices).reshape((len(vertices)//3, 3))\n",
    "for i, pos in enumerate(v):\n",
    "    plot += k3d.text(text=str(i), position=pos, color=0, reference_point='cc')"
   ]
  },
  {
   "cell_type": "code",
   "execution_count": 7,
   "metadata": {},
   "outputs": [
    {
     "name": "stdout",
     "output_type": "stream",
     "text": [
      "[0. 0. 0.]\n"
     ]
    }
   ],
   "source": [
    "import numpy as np\n",
    "a = np.zeros(4)\n",
    "b = a[1:]\n",
    "print (b)"
   ]
  },
  {
   "cell_type": "code",
   "execution_count": null,
   "metadata": {},
   "outputs": [],
   "source": []
  }
 ],
 "metadata": {
  "kernelspec": {
   "display_name": "Python 2",
   "language": "python",
   "name": "python2"
  },
  "language_info": {
   "codemirror_mode": {
    "name": "ipython",
    "version": 3
   },
   "file_extension": ".py",
   "mimetype": "text/x-python",
   "name": "python",
   "nbconvert_exporter": "python",
   "pygments_lexer": "ipython3",
   "version": "3.6.9"
  }
 },
 "nbformat": 4,
 "nbformat_minor": 2
}
